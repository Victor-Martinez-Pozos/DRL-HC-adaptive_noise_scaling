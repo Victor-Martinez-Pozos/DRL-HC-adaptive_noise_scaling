{
 "cells": [
  {
   "cell_type": "markdown",
   "metadata": {},
   "source": [
    "# Cross-Entropy and adaptive noise scaling\n",
    "\n",
    "---\n",
    "In this notebook, we will train an agent with OpenAI Gym's CartPoleContinuous environment."
   ]
  },
  {
   "cell_type": "markdown",
   "metadata": {},
   "source": [
    "### 1. Import the Necessary Packages"
   ]
  },
  {
   "cell_type": "code",
   "execution_count": 1,
   "metadata": {},
   "outputs": [],
   "source": [
    "import gym\n",
    "import numpy as np"
   ]
  },
  {
   "cell_type": "markdown",
   "metadata": {},
   "source": [
    "### 2. Instantiate the Environment"
   ]
  },
  {
   "cell_type": "code",
   "execution_count": 2,
   "metadata": {},
   "outputs": [
    {
     "name": "stdout",
     "output_type": "stream",
     "text": [
      "observation space: Box(-3.4028234663852886e+38, 3.4028234663852886e+38, (4,), float32)\n",
      "action space: Discrete(2)\n"
     ]
    }
   ],
   "source": [
    "env = gym.make('CartPole-v0')\n",
    "print('observation space:', env.observation_space)\n",
    "print('action space:', env.action_space)"
   ]
  },
  {
   "cell_type": "markdown",
   "metadata": {},
   "source": [
    "### 3. Instanciate model and train it using hill climbing"
   ]
  },
  {
   "cell_type": "code",
   "execution_count": 3,
   "metadata": {},
   "outputs": [],
   "source": [
    "from ce_w_ans_agent import HillClimbing\n",
    "from model import FCNetwork"
   ]
  },
  {
   "cell_type": "code",
   "execution_count": 5,
   "metadata": {
    "scrolled": true
   },
   "outputs": [
    {
     "name": "stdout",
     "output_type": "stream",
     "text": [
      "Episode 20\tAverage Score: 25.95\n",
      "Episode 40\tAverage Score: 25.85\n",
      "Episode 60\tAverage Score: 44.27\n",
      "Episode 80\tAverage Score: 53.98\n",
      "Episode 100\tAverage Score: 74.92\n",
      "Episode 120\tAverage Score: 108.02\n",
      "Episode 140\tAverage Score: 142.00\n",
      "Episode 160\tAverage Score: 163.07\n",
      "Episode 180\tAverage Score: 182.84\n",
      "Episode 200\tAverage Score: 187.28\n",
      "Episode 220\tAverage Score: 187.40\n",
      "Episode 240\tAverage Score: 186.29\n",
      "Episode 260\tAverage Score: 188.19\n",
      "Episode 280\tAverage Score: 190.26\n",
      "Episode 300\tAverage Score: 190.52\n",
      "Episode 320\tAverage Score: 191.72\n",
      "Episode 340\tAverage Score: 189.60\n",
      "Episode 360\tAverage Score: 189.13\n",
      "Episode 380\tAverage Score: 189.49\n",
      "Episode 400\tAverage Score: 190.56\n",
      "Episode 420\tAverage Score: 189.68\n",
      "Episode 440\tAverage Score: 192.81\n",
      "Episode 460\tAverage Score: 192.35\n",
      "Episode 480\tAverage Score: 190.91\n",
      "Episode 500\tAverage Score: 192.10\n",
      "Episode 520\tAverage Score: 192.03\n",
      "Episode 540\tAverage Score: 193.00\n",
      "Episode 560\tAverage Score: 192.29\n",
      "Episode 580\tAverage Score: 193.70\n",
      "Episode 600\tAverage Score: 192.89\n",
      "Episode 620\tAverage Score: 194.17\n",
      "Episode 640\tAverage Score: 193.06\n",
      "Episode 660\tAverage Score: 192.08\n",
      "Episode 680\tAverage Score: 192.51\n",
      "Episode 700\tAverage Score: 192.80\n",
      "Episode 720\tAverage Score: 191.30\n",
      "Episode 740\tAverage Score: 189.96\n",
      "Episode 760\tAverage Score: 190.56\n",
      "Episode 780\tAverage Score: 186.96\n",
      "Episode 800\tAverage Score: 187.63\n",
      "Episode 820\tAverage Score: 186.87\n",
      "Episode 840\tAverage Score: 185.23\n",
      "Episode 860\tAverage Score: 185.18\n",
      "Episode 880\tAverage Score: 186.87\n",
      "Episode 900\tAverage Score: 186.89\n",
      "Episode 920\tAverage Score: 188.11\n",
      "Episode 940\tAverage Score: 190.84\n",
      "Episode 960\tAverage Score: 188.41\n",
      "Episode 980\tAverage Score: 188.24\n",
      "Episode 1000\tAverage Score: 187.69\n"
     ]
    }
   ],
   "source": [
    "model = FCNetwork()\n",
    "hc=HillClimbing()\n",
    "scores = hc.train(env, model, gamma=1.0, n_episodes=1000, print_every=20)"
   ]
  },
  {
   "cell_type": "markdown",
   "metadata": {},
   "source": [
    "### 5. Plot the Scores"
   ]
  },
  {
   "cell_type": "code",
   "execution_count": 6,
   "metadata": {},
   "outputs": [],
   "source": [
    "import matplotlib.pyplot as plt\n",
    "%matplotlib inline"
   ]
  },
  {
   "cell_type": "code",
   "execution_count": 7,
   "metadata": {},
   "outputs": [
    {
     "data": {
      "image/png": "[encoded data removed]",
      "text/plain": [
       "<Figure size 432x288 with 1 Axes>"
      ]
     },
     "metadata": {
      "needs_background": "light"
     },
     "output_type": "display_data"
    }
   ],
   "source": [
    "fig = plt.figure()\n",
    "ax = fig.add_subplot(111)\n",
    "plt.plot(np.arange(1, len(scores)+1), scores)\n",
    "plt.ylabel('Score')\n",
    "plt.xlabel('Episode #')\n",
    "plt.show()"
   ]
  },
  {
   "cell_type": "markdown",
   "metadata": {},
   "source": [
    "### 6. Watch a Smart Agent!"
   ]
  },
  {
   "cell_type": "code",
   "execution_count": 8,
   "metadata": {},
   "outputs": [
    {
     "name": "stdout",
     "output_type": "stream",
     "text": [
      "Requirement already satisfied: pyvirtualdisplay in /home/admon/anaconda3/envs/drlnd/lib/python3.6/site-packages (1.3.2)\r\n",
      "Requirement already satisfied: EasyProcess in /home/admon/anaconda3/envs/drlnd/lib/python3.6/site-packages (from pyvirtualdisplay) (0.3)\r\n"
     ]
    }
   ],
   "source": [
    "!python -m pip install pyvirtualdisplay\n",
    "from pyvirtualdisplay import Display\n",
    "display = Display(visible=0, size=(1400, 900))\n",
    "display.start()\n",
    "\n",
    "is_ipython = 'inline' in plt.get_backend()\n",
    "if is_ipython:\n",
    "    from IPython import display\n",
    "\n",
    "plt.ion()"
   ]
  },
  {
   "cell_type": "code",
   "execution_count": 10,
   "metadata": {},
   "outputs": [
    {
     "data": {
      "image/png": "[encoded data removed]",
      "text/plain": [
       "<Figure size 432x288 with 1 Axes>"
      ]
     },
     "metadata": {
      "needs_background": "light"
     },
     "output_type": "display_data"
    }
   ],
   "source": [
    "Load=True\n",
    "\n",
    "if Load:\n",
    "    model.load(\"chpt_195.npy\")\n",
    "\n",
    "env = gym.make('CartPole-v0')\n",
    "state = env.reset()\n",
    "img = plt.imshow(env.render(mode='rgb_array'))\n",
    "for t in range(200):\n",
    "    action = np.random.choice(2, p=model.forward(state)) \n",
    "    img.set_data(env.render(mode='rgb_array')) \n",
    "    plt.axis('off')\n",
    "    display.display(plt.gcf())\n",
    "    display.clear_output(wait=True)\n",
    "    state, reward, done, _ = env.step(action)\n",
    "    if done:\n",
    "        break \n",
    "\n",
    "env.close()"
   ]
  }
 ],
 "metadata": {
  "kernelspec": {
   "display_name": "Python 3",
   "language": "python",
   "name": "python3"
  },
  "language_info": {
   "codemirror_mode": {
    "name": "ipython",
    "version": 3
   },
   "file_extension": ".py",
   "mimetype": "text/x-python",
   "name": "python",
   "nbconvert_exporter": "python",
   "pygments_lexer": "ipython3",
   "version": "3.6.12"
  }
 },
 "nbformat": 4,
 "nbformat_minor": 4
}
